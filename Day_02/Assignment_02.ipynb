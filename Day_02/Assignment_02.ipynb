{
 "cells": [
  {
   "cell_type": "markdown",
   "metadata": {},
   "source": [
    "## Questions 1:\n",
    "###### Create an empty list. Accept 10 numbers from the user and append to it the list if it is an even number."
   ]
  },
  {
   "cell_type": "code",
   "execution_count": 29,
   "metadata": {},
   "outputs": [
    {
     "name": "stdout",
     "output_type": "stream",
     "text": [
      "Enter number:- 10\n",
      "even numbers are:-  [0, 2, 4, 6, 8, 10]\n"
     ]
    }
   ],
   "source": [
    "num=int(input(\"Enter number:- \"))\n",
    "lst=[]\n",
    "for i in range(num+1):\n",
    "    if i % 2 == 0:\n",
    "        lst.append(i)\n",
    "print(\"even numbers are:- \",lst)"
   ]
  },
  {
   "cell_type": "markdown",
   "metadata": {},
   "source": [
    "#### Questions 2: Create a notebook on LIST COMPREHENSION. This exercise is to put you in a Self learning mode"
   ]
  },
  {
   "cell_type": "markdown",
   "metadata": {},
   "source": [
    "###### LIST COMPREHENSION:-"
   ]
  },
  {
   "cell_type": "code",
   "execution_count": null,
   "metadata": {},
   "outputs": [],
   "source": []
  },
  {
   "cell_type": "markdown",
   "metadata": {},
   "source": [
    "## Questions 3:"
   ]
  },
  {
   "cell_type": "markdown",
   "metadata": {},
   "source": [
    "###### You have seen in the videos how powerful dictionary data structure is. In this assignment, given a number n, you have to write a program that generates a dictionary d which contains (i, i*i), where i is from 1 to n (both included). Then you have to just print this dictionary d.\n",
    "\n",
    "###### Example:\n",
    "    Input: 4\n",
    "    output:{1: 1, 2: 4, 3: 9, 4: 16}\n",
    "\n",
    "###### Input Format:\n",
    "    Take the number n in a single line.\n",
    "###### Output Format:\n",
    "    Print the dictionary d in a single line.\n",
    "\n",
    "\n",
    "###### Example:\n",
    "    Input:\n",
    "        8\n",
    "    Output:\n",
    "        {1: 1, 2: 4, 3: 9, 4: 16, 5: 25, 6: 36, 7: 49, 8: 64}"
   ]
  },
  {
   "cell_type": "code",
   "execution_count": 32,
   "metadata": {},
   "outputs": [
    {
     "name": "stdout",
     "output_type": "stream",
     "text": [
      "Input a number 4\n",
      "{1: 1, 2: 4, 3: 9, 4: 16}\n"
     ]
    }
   ],
   "source": [
    "n=int(input(\"Input a number \"))\n",
    "d = dict()\n",
    "\n",
    "for x in range(1,n+1):\n",
    "    d[x]=x*x\n",
    "\n",
    "print(d) "
   ]
  },
  {
   "cell_type": "code",
   "execution_count": 31,
   "metadata": {},
   "outputs": [
    {
     "name": "stdout",
     "output_type": "stream",
     "text": [
      "Enter a number:8\n",
      "{1: 1, 2: 4, 3: 9, 4: 16, 5: 25, 6: 36, 7: 49, 8: 64}\n"
     ]
    }
   ],
   "source": [
    "n=int(input(\"Enter a number:\"))\n",
    "d={x:x*x for x in range(1,n+1)}\n",
    "print(d)"
   ]
  },
  {
   "cell_type": "markdown",
   "metadata": {},
   "source": [
    "## Questions 4:"
   ]
  },
  {
   "cell_type": "markdown",
   "metadata": {},
   "source": [
    "###### There is a robot which wants to go the charging point to charge itself. The robot moves in a 2-D plane from the original point (0,0). The robot can move toward UP, DOWN, LEFT and RIGHT with given steps. \n",
    "\n",
    "###### The trace of robot movement is shown as the following:\n",
    "                UP 5\n",
    "                DOWN 3\n",
    "                LEFT 3\n",
    "                RIGHT 2\n",
    "\n",
    "    Then, the output of the program should be: 2\n",
    "\n",
    "###### The numbers after the direction are steps. Write a program to compute the distance between the current position after a sequence of movement and original point. If the distance is a float, then just print the nearest integer (use round() function for that and then convert it into an integer).\n",
    "\n",
    "###### Input Format:\n",
    "    The first line of the input contains a number n which implies the number of directions to be given.\n",
    "    The next n lines contain the direction and the step separated by a space.\n",
    "\n",
    "###### Output Format:\n",
    "    Print the distance from the original position to the current position.\n",
    "\n",
    "###### Example:\n",
    "        Input:   4\n",
    "            UP 5\n",
    "            DOWN 3\n",
    "            LEFT 3\n",
    "            RIGHT 2\n",
    "\n",
    "        Output:  2"
   ]
  },
  {
   "cell_type": "code",
   "execution_count": 9,
   "metadata": {},
   "outputs": [
    {
     "name": "stdout",
     "output_type": "stream",
     "text": [
      "4\n",
      "up 5\n",
      "down 3\n",
      "left 3\n",
      "right 2\n",
      "2\n"
     ]
    }
   ],
   "source": [
    "import math\n",
    "x=int(input())\n",
    "dict1={\"UP\":0,\"DOWN\":0,\"LEFT\":0,\"RIGHT\":0}\n",
    "for i in range(x):\n",
    "    y=input().split()\n",
    "    dict1[y[0].upper()]=int(y[1])\n",
    "#print(dict1)\n",
    "\n",
    "dist=math.sqrt((dict1[\"UP\"]-dict1[\"DOWN\"])**2 + (dict1[\"LEFT\"]-dict1[\"RIGHT\"])**2)\n",
    "dist=int(round(dist))\n",
    "print(dist)"
   ]
  }
 ],
 "metadata": {
  "kernelspec": {
   "display_name": "Python 3",
   "language": "python",
   "name": "python3"
  },
  "language_info": {
   "codemirror_mode": {
    "name": "ipython",
    "version": 3
   },
   "file_extension": ".py",
   "mimetype": "text/x-python",
   "name": "python",
   "nbconvert_exporter": "python",
   "pygments_lexer": "ipython3",
   "version": "3.7.0"
  }
 },
 "nbformat": 4,
 "nbformat_minor": 2
}
