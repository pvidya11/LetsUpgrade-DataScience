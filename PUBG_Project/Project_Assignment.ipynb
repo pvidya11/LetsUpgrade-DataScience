{
 "cells": [
  {
   "cell_type": "markdown",
   "metadata": {},
   "source": [
    "### Import Libraries"
   ]
  },
  {
   "cell_type": "code",
   "execution_count": 2,
   "metadata": {},
   "outputs": [],
   "source": [
    "import pandas as pd\n",
    "import numpy as np\n",
    "import matplotlib.pyplot as plt\n",
    "import seaborn as sns"
   ]
  },
  {
   "cell_type": "code",
   "execution_count": 3,
   "metadata": {
    "collapsed": true
   },
   "outputs": [
    {
     "name": "stdout",
     "output_type": "stream",
     "text": [
      "Requirement already satisfied: seaborn in c:\\users\\shiv\\anaconda3\\lib\\site-packages (0.10.1)\n",
      "Requirement already satisfied: matplotlib>=2.1.2 in c:\\users\\shiv\\anaconda3\\lib\\site-packages (from seaborn) (3.1.0)\n",
      "Requirement already satisfied: numpy>=1.13.3 in c:\\users\\shiv\\anaconda3\\lib\\site-packages (from seaborn) (1.19.1)\n",
      "Requirement already satisfied: scipy>=1.0.1 in c:\\users\\shiv\\appdata\\roaming\\python\\python37\\site-packages (from seaborn) (1.5.2)\n",
      "Requirement already satisfied: pandas>=0.22.0 in c:\\users\\shiv\\appdata\\roaming\\python\\python37\\site-packages (from seaborn) (1.1.0)\n",
      "Requirement already satisfied: pyparsing!=2.0.4,!=2.1.2,!=2.1.6,>=2.0.1 in c:\\users\\shiv\\anaconda3\\lib\\site-packages (from matplotlib>=2.1.2->seaborn) (2.2.0)\n",
      "Requirement already satisfied: python-dateutil>=2.1 in c:\\users\\shiv\\anaconda3\\lib\\site-packages (from matplotlib>=2.1.2->seaborn) (2.7.3)\n",
      "Requirement already satisfied: kiwisolver>=1.0.1 in c:\\users\\shiv\\anaconda3\\lib\\site-packages (from matplotlib>=2.1.2->seaborn) (1.0.1)\n",
      "Requirement already satisfied: cycler>=0.10 in c:\\users\\shiv\\anaconda3\\lib\\site-packages (from matplotlib>=2.1.2->seaborn) (0.10.0)\n",
      "Requirement already satisfied: pytz>=2017.2 in c:\\users\\shiv\\anaconda3\\lib\\site-packages (from pandas>=0.22.0->seaborn) (2018.5)\n",
      "Requirement already satisfied: six>=1.5 in c:\\users\\shiv\\anaconda3\\lib\\site-packages (from python-dateutil>=2.1->matplotlib>=2.1.2->seaborn) (1.11.0)\n",
      "Requirement already satisfied: setuptools in c:\\users\\shiv\\anaconda3\\lib\\site-packages (from kiwisolver>=1.0.1->matplotlib>=2.1.2->seaborn) (40.2.0)\n"
     ]
    },
    {
     "name": "stderr",
     "output_type": "stream",
     "text": [
      "WARNING: You are using pip version 20.2.2; however, version 20.2.4 is available.\n",
      "You should consider upgrading via the 'c:\\users\\shiv\\anaconda3\\python.exe -m pip install --upgrade pip' command.\n"
     ]
    }
   ],
   "source": [
    "!pip install seaborn"
   ]
  },
  {
   "cell_type": "code",
   "execution_count": 4,
   "metadata": {},
   "outputs": [
    {
     "data": {
      "text/plain": [
       "'0.10.1'"
      ]
     },
     "execution_count": 4,
     "metadata": {},
     "output_type": "execute_result"
    }
   ],
   "source": [
    "sns.__version__"
   ]
  },
  {
   "cell_type": "markdown",
   "metadata": {},
   "source": [
    "### Tasks to be performed:\n",
    "#### 1. Read the dataset."
   ]
  },
  {
   "cell_type": "code",
   "execution_count": 5,
   "metadata": {},
   "outputs": [],
   "source": [
    "data = pd.read_csv(r\"pubg - Dr. Darshan Ingle.csv\")"
   ]
  },
  {
   "cell_type": "markdown",
   "metadata": {},
   "source": [
    "#### 2. Check the datatype of all the columns."
   ]
  },
  {
   "cell_type": "code",
   "execution_count": 6,
   "metadata": {},
   "outputs": [
    {
     "name": "stdout",
     "output_type": "stream",
     "text": [
      "<class 'pandas.core.frame.DataFrame'>\n",
      "RangeIndex: 10000 entries, 0 to 9999\n",
      "Data columns (total 29 columns):\n",
      " #   Column           Non-Null Count  Dtype  \n",
      "---  ------           --------------  -----  \n",
      " 0   Id               10000 non-null  object \n",
      " 1   groupId          10000 non-null  object \n",
      " 2   matchId          10000 non-null  object \n",
      " 3   assists          10000 non-null  int64  \n",
      " 4   boosts           10000 non-null  int64  \n",
      " 5   damageDealt      10000 non-null  float64\n",
      " 6   DBNOs            10000 non-null  int64  \n",
      " 7   headshotKills    10000 non-null  int64  \n",
      " 8   heals            10000 non-null  int64  \n",
      " 9   killPlace        10000 non-null  int64  \n",
      " 10  killPoints       10000 non-null  int64  \n",
      " 11  kills            10000 non-null  int64  \n",
      " 12  killStreaks      10000 non-null  int64  \n",
      " 13  longestKill      10000 non-null  float64\n",
      " 14  matchDuration    10000 non-null  int64  \n",
      " 15  matchType        10000 non-null  object \n",
      " 16  maxPlace         10000 non-null  int64  \n",
      " 17  numGroups        10000 non-null  int64  \n",
      " 18  rankPoints       10000 non-null  int64  \n",
      " 19  revives          10000 non-null  int64  \n",
      " 20  rideDistance     10000 non-null  float64\n",
      " 21  roadKills        10000 non-null  int64  \n",
      " 22  swimDistance     10000 non-null  float64\n",
      " 23  teamKills        10000 non-null  int64  \n",
      " 24  vehicleDestroys  10000 non-null  int64  \n",
      " 25  walkDistance     10000 non-null  float64\n",
      " 26  weaponsAcquired  10000 non-null  int64  \n",
      " 27  winPoints        10000 non-null  int64  \n",
      " 28  winPlacePerc     10000 non-null  float64\n",
      "dtypes: float64(6), int64(19), object(4)\n",
      "memory usage: 2.2+ MB\n"
     ]
    }
   ],
   "source": [
    "data.info()"
   ]
  },
  {
   "cell_type": "code",
   "execution_count": 7,
   "metadata": {},
   "outputs": [],
   "source": [
    "#pd.DataFrame([[col,str(type(data[col]))] for col in data.columns],columns=[\"Column_Name\",\"Data_Type\"])"
   ]
  },
  {
   "cell_type": "markdown",
   "metadata": {},
   "source": [
    "#### 3. Find the summary of all the numerical columns and write your findings about it."
   ]
  },
  {
   "cell_type": "code",
   "execution_count": 8,
   "metadata": {},
   "outputs": [
    {
     "data": {
      "text/html": [
       "<div>\n",
       "<style scoped>\n",
       "    .dataframe tbody tr th:only-of-type {\n",
       "        vertical-align: middle;\n",
       "    }\n",
       "\n",
       "    .dataframe tbody tr th {\n",
       "        vertical-align: top;\n",
       "    }\n",
       "\n",
       "    .dataframe thead th {\n",
       "        text-align: right;\n",
       "    }\n",
       "</style>\n",
       "<table border=\"1\" class=\"dataframe\">\n",
       "  <thead>\n",
       "    <tr style=\"text-align: right;\">\n",
       "      <th></th>\n",
       "      <th>count</th>\n",
       "      <th>mean</th>\n",
       "      <th>std</th>\n",
       "      <th>min</th>\n",
       "      <th>25%</th>\n",
       "      <th>50%</th>\n",
       "      <th>75%</th>\n",
       "      <th>max</th>\n",
       "    </tr>\n",
       "  </thead>\n",
       "  <tbody>\n",
       "    <tr>\n",
       "      <th>assists</th>\n",
       "      <td>10000.0</td>\n",
       "      <td>0.234600</td>\n",
       "      <td>0.575149</td>\n",
       "      <td>0.0</td>\n",
       "      <td>0.000</td>\n",
       "      <td>0.0000</td>\n",
       "      <td>0.000000</td>\n",
       "      <td>7.0</td>\n",
       "    </tr>\n",
       "    <tr>\n",
       "      <th>boosts</th>\n",
       "      <td>10000.0</td>\n",
       "      <td>1.088500</td>\n",
       "      <td>1.703279</td>\n",
       "      <td>0.0</td>\n",
       "      <td>0.000</td>\n",
       "      <td>0.0000</td>\n",
       "      <td>2.000000</td>\n",
       "      <td>18.0</td>\n",
       "    </tr>\n",
       "    <tr>\n",
       "      <th>damageDealt</th>\n",
       "      <td>10000.0</td>\n",
       "      <td>129.211264</td>\n",
       "      <td>167.193945</td>\n",
       "      <td>0.0</td>\n",
       "      <td>0.000</td>\n",
       "      <td>83.8050</td>\n",
       "      <td>185.325000</td>\n",
       "      <td>3469.0</td>\n",
       "    </tr>\n",
       "    <tr>\n",
       "      <th>DBNOs</th>\n",
       "      <td>10000.0</td>\n",
       "      <td>0.644000</td>\n",
       "      <td>1.095620</td>\n",
       "      <td>0.0</td>\n",
       "      <td>0.000</td>\n",
       "      <td>0.0000</td>\n",
       "      <td>1.000000</td>\n",
       "      <td>11.0</td>\n",
       "    </tr>\n",
       "    <tr>\n",
       "      <th>headshotKills</th>\n",
       "      <td>10000.0</td>\n",
       "      <td>0.221700</td>\n",
       "      <td>0.577046</td>\n",
       "      <td>0.0</td>\n",
       "      <td>0.000</td>\n",
       "      <td>0.0000</td>\n",
       "      <td>0.000000</td>\n",
       "      <td>14.0</td>\n",
       "    </tr>\n",
       "    <tr>\n",
       "      <th>heals</th>\n",
       "      <td>10000.0</td>\n",
       "      <td>1.354000</td>\n",
       "      <td>2.629102</td>\n",
       "      <td>0.0</td>\n",
       "      <td>0.000</td>\n",
       "      <td>0.0000</td>\n",
       "      <td>2.000000</td>\n",
       "      <td>31.0</td>\n",
       "    </tr>\n",
       "    <tr>\n",
       "      <th>killPlace</th>\n",
       "      <td>10000.0</td>\n",
       "      <td>47.663100</td>\n",
       "      <td>27.424146</td>\n",
       "      <td>1.0</td>\n",
       "      <td>24.000</td>\n",
       "      <td>48.0000</td>\n",
       "      <td>71.000000</td>\n",
       "      <td>100.0</td>\n",
       "    </tr>\n",
       "    <tr>\n",
       "      <th>killPoints</th>\n",
       "      <td>10000.0</td>\n",
       "      <td>506.970200</td>\n",
       "      <td>627.297959</td>\n",
       "      <td>0.0</td>\n",
       "      <td>0.000</td>\n",
       "      <td>0.0000</td>\n",
       "      <td>1169.000000</td>\n",
       "      <td>1926.0</td>\n",
       "    </tr>\n",
       "    <tr>\n",
       "      <th>kills</th>\n",
       "      <td>10000.0</td>\n",
       "      <td>0.913400</td>\n",
       "      <td>1.524117</td>\n",
       "      <td>0.0</td>\n",
       "      <td>0.000</td>\n",
       "      <td>0.0000</td>\n",
       "      <td>1.000000</td>\n",
       "      <td>35.0</td>\n",
       "    </tr>\n",
       "    <tr>\n",
       "      <th>killStreaks</th>\n",
       "      <td>10000.0</td>\n",
       "      <td>0.543800</td>\n",
       "      <td>0.701948</td>\n",
       "      <td>0.0</td>\n",
       "      <td>0.000</td>\n",
       "      <td>0.0000</td>\n",
       "      <td>1.000000</td>\n",
       "      <td>4.0</td>\n",
       "    </tr>\n",
       "    <tr>\n",
       "      <th>longestKill</th>\n",
       "      <td>10000.0</td>\n",
       "      <td>23.272333</td>\n",
       "      <td>50.536262</td>\n",
       "      <td>0.0</td>\n",
       "      <td>0.000</td>\n",
       "      <td>0.0000</td>\n",
       "      <td>22.345000</td>\n",
       "      <td>538.6</td>\n",
       "    </tr>\n",
       "    <tr>\n",
       "      <th>matchDuration</th>\n",
       "      <td>10000.0</td>\n",
       "      <td>1575.398000</td>\n",
       "      <td>258.963515</td>\n",
       "      <td>464.0</td>\n",
       "      <td>1366.000</td>\n",
       "      <td>1431.5000</td>\n",
       "      <td>1849.250000</td>\n",
       "      <td>2202.0</td>\n",
       "    </tr>\n",
       "    <tr>\n",
       "      <th>maxPlace</th>\n",
       "      <td>10000.0</td>\n",
       "      <td>44.655500</td>\n",
       "      <td>23.800859</td>\n",
       "      <td>2.0</td>\n",
       "      <td>28.000</td>\n",
       "      <td>30.0000</td>\n",
       "      <td>49.000000</td>\n",
       "      <td>100.0</td>\n",
       "    </tr>\n",
       "    <tr>\n",
       "      <th>numGroups</th>\n",
       "      <td>10000.0</td>\n",
       "      <td>43.151300</td>\n",
       "      <td>23.272567</td>\n",
       "      <td>2.0</td>\n",
       "      <td>27.000</td>\n",
       "      <td>30.0000</td>\n",
       "      <td>47.000000</td>\n",
       "      <td>100.0</td>\n",
       "    </tr>\n",
       "    <tr>\n",
       "      <th>rankPoints</th>\n",
       "      <td>10000.0</td>\n",
       "      <td>889.699600</td>\n",
       "      <td>738.535034</td>\n",
       "      <td>-1.0</td>\n",
       "      <td>-1.000</td>\n",
       "      <td>1444.0000</td>\n",
       "      <td>1500.000000</td>\n",
       "      <td>2835.0</td>\n",
       "    </tr>\n",
       "    <tr>\n",
       "      <th>revives</th>\n",
       "      <td>10000.0</td>\n",
       "      <td>0.160200</td>\n",
       "      <td>0.454045</td>\n",
       "      <td>0.0</td>\n",
       "      <td>0.000</td>\n",
       "      <td>0.0000</td>\n",
       "      <td>0.000000</td>\n",
       "      <td>5.0</td>\n",
       "    </tr>\n",
       "    <tr>\n",
       "      <th>rideDistance</th>\n",
       "      <td>10000.0</td>\n",
       "      <td>600.693584</td>\n",
       "      <td>1524.915601</td>\n",
       "      <td>0.0</td>\n",
       "      <td>0.000</td>\n",
       "      <td>0.0000</td>\n",
       "      <td>0.000575</td>\n",
       "      <td>28780.0</td>\n",
       "    </tr>\n",
       "    <tr>\n",
       "      <th>roadKills</th>\n",
       "      <td>10000.0</td>\n",
       "      <td>0.004200</td>\n",
       "      <td>0.074719</td>\n",
       "      <td>0.0</td>\n",
       "      <td>0.000</td>\n",
       "      <td>0.0000</td>\n",
       "      <td>0.000000</td>\n",
       "      <td>3.0</td>\n",
       "    </tr>\n",
       "    <tr>\n",
       "      <th>swimDistance</th>\n",
       "      <td>10000.0</td>\n",
       "      <td>4.385917</td>\n",
       "      <td>30.889620</td>\n",
       "      <td>0.0</td>\n",
       "      <td>0.000</td>\n",
       "      <td>0.0000</td>\n",
       "      <td>0.000000</td>\n",
       "      <td>971.2</td>\n",
       "    </tr>\n",
       "    <tr>\n",
       "      <th>teamKills</th>\n",
       "      <td>10000.0</td>\n",
       "      <td>0.024400</td>\n",
       "      <td>0.171486</td>\n",
       "      <td>0.0</td>\n",
       "      <td>0.000</td>\n",
       "      <td>0.0000</td>\n",
       "      <td>0.000000</td>\n",
       "      <td>3.0</td>\n",
       "    </tr>\n",
       "    <tr>\n",
       "      <th>vehicleDestroys</th>\n",
       "      <td>10000.0</td>\n",
       "      <td>0.007700</td>\n",
       "      <td>0.089674</td>\n",
       "      <td>0.0</td>\n",
       "      <td>0.000</td>\n",
       "      <td>0.0000</td>\n",
       "      <td>0.000000</td>\n",
       "      <td>2.0</td>\n",
       "    </tr>\n",
       "    <tr>\n",
       "      <th>walkDistance</th>\n",
       "      <td>10000.0</td>\n",
       "      <td>1130.008410</td>\n",
       "      <td>1168.597983</td>\n",
       "      <td>0.0</td>\n",
       "      <td>151.575</td>\n",
       "      <td>650.3500</td>\n",
       "      <td>1923.250000</td>\n",
       "      <td>10490.0</td>\n",
       "    </tr>\n",
       "    <tr>\n",
       "      <th>weaponsAcquired</th>\n",
       "      <td>10000.0</td>\n",
       "      <td>3.635900</td>\n",
       "      <td>2.422090</td>\n",
       "      <td>0.0</td>\n",
       "      <td>2.000</td>\n",
       "      <td>3.0000</td>\n",
       "      <td>5.000000</td>\n",
       "      <td>41.0</td>\n",
       "    </tr>\n",
       "    <tr>\n",
       "      <th>winPoints</th>\n",
       "      <td>10000.0</td>\n",
       "      <td>609.344000</td>\n",
       "      <td>739.792400</td>\n",
       "      <td>0.0</td>\n",
       "      <td>0.000</td>\n",
       "      <td>0.0000</td>\n",
       "      <td>1495.000000</td>\n",
       "      <td>1863.0</td>\n",
       "    </tr>\n",
       "    <tr>\n",
       "      <th>winPlacePerc</th>\n",
       "      <td>10000.0</td>\n",
       "      <td>0.469926</td>\n",
       "      <td>0.304508</td>\n",
       "      <td>0.0</td>\n",
       "      <td>0.200</td>\n",
       "      <td>0.4583</td>\n",
       "      <td>0.735100</td>\n",
       "      <td>1.0</td>\n",
       "    </tr>\n",
       "  </tbody>\n",
       "</table>\n",
       "</div>"
      ],
      "text/plain": [
       "                   count         mean          std    min       25%  \\\n",
       "assists          10000.0     0.234600     0.575149    0.0     0.000   \n",
       "boosts           10000.0     1.088500     1.703279    0.0     0.000   \n",
       "damageDealt      10000.0   129.211264   167.193945    0.0     0.000   \n",
       "DBNOs            10000.0     0.644000     1.095620    0.0     0.000   \n",
       "headshotKills    10000.0     0.221700     0.577046    0.0     0.000   \n",
       "heals            10000.0     1.354000     2.629102    0.0     0.000   \n",
       "killPlace        10000.0    47.663100    27.424146    1.0    24.000   \n",
       "killPoints       10000.0   506.970200   627.297959    0.0     0.000   \n",
       "kills            10000.0     0.913400     1.524117    0.0     0.000   \n",
       "killStreaks      10000.0     0.543800     0.701948    0.0     0.000   \n",
       "longestKill      10000.0    23.272333    50.536262    0.0     0.000   \n",
       "matchDuration    10000.0  1575.398000   258.963515  464.0  1366.000   \n",
       "maxPlace         10000.0    44.655500    23.800859    2.0    28.000   \n",
       "numGroups        10000.0    43.151300    23.272567    2.0    27.000   \n",
       "rankPoints       10000.0   889.699600   738.535034   -1.0    -1.000   \n",
       "revives          10000.0     0.160200     0.454045    0.0     0.000   \n",
       "rideDistance     10000.0   600.693584  1524.915601    0.0     0.000   \n",
       "roadKills        10000.0     0.004200     0.074719    0.0     0.000   \n",
       "swimDistance     10000.0     4.385917    30.889620    0.0     0.000   \n",
       "teamKills        10000.0     0.024400     0.171486    0.0     0.000   \n",
       "vehicleDestroys  10000.0     0.007700     0.089674    0.0     0.000   \n",
       "walkDistance     10000.0  1130.008410  1168.597983    0.0   151.575   \n",
       "weaponsAcquired  10000.0     3.635900     2.422090    0.0     2.000   \n",
       "winPoints        10000.0   609.344000   739.792400    0.0     0.000   \n",
       "winPlacePerc     10000.0     0.469926     0.304508    0.0     0.200   \n",
       "\n",
       "                       50%          75%      max  \n",
       "assists             0.0000     0.000000      7.0  \n",
       "boosts              0.0000     2.000000     18.0  \n",
       "damageDealt        83.8050   185.325000   3469.0  \n",
       "DBNOs               0.0000     1.000000     11.0  \n",
       "headshotKills       0.0000     0.000000     14.0  \n",
       "heals               0.0000     2.000000     31.0  \n",
       "killPlace          48.0000    71.000000    100.0  \n",
       "killPoints          0.0000  1169.000000   1926.0  \n",
       "kills               0.0000     1.000000     35.0  \n",
       "killStreaks         0.0000     1.000000      4.0  \n",
       "longestKill         0.0000    22.345000    538.6  \n",
       "matchDuration    1431.5000  1849.250000   2202.0  \n",
       "maxPlace           30.0000    49.000000    100.0  \n",
       "numGroups          30.0000    47.000000    100.0  \n",
       "rankPoints       1444.0000  1500.000000   2835.0  \n",
       "revives             0.0000     0.000000      5.0  \n",
       "rideDistance        0.0000     0.000575  28780.0  \n",
       "roadKills           0.0000     0.000000      3.0  \n",
       "swimDistance        0.0000     0.000000    971.2  \n",
       "teamKills           0.0000     0.000000      3.0  \n",
       "vehicleDestroys     0.0000     0.000000      2.0  \n",
       "walkDistance      650.3500  1923.250000  10490.0  \n",
       "weaponsAcquired     3.0000     5.000000     41.0  \n",
       "winPoints           0.0000  1495.000000   1863.0  \n",
       "winPlacePerc        0.4583     0.735100      1.0  "
      ]
     },
     "execution_count": 8,
     "metadata": {},
     "output_type": "execute_result"
    }
   ],
   "source": [
    "data.describe().T"
   ]
  },
  {
   "cell_type": "markdown",
   "metadata": {},
   "source": [
    "#### 4. The average person kills how many players?"
   ]
  },
  {
   "cell_type": "code",
   "execution_count": 9,
   "metadata": {},
   "outputs": [
    {
     "name": "stdout",
     "output_type": "stream",
     "text": [
      "The average person kills 0.9134 players.\n"
     ]
    }
   ],
   "source": [
    "Avg_kills=data.kills.mean()\n",
    "print(\"The average person kills {} players.\".format(Avg_kills))"
   ]
  },
  {
   "cell_type": "markdown",
   "metadata": {},
   "source": [
    "#### 5. 99% of people have how many kills?"
   ]
  },
  {
   "cell_type": "code",
   "execution_count": 10,
   "metadata": {},
   "outputs": [
    {
     "name": "stdout",
     "output_type": "stream",
     "text": [
      "99% of people have 7.0 kills.\n"
     ]
    }
   ],
   "source": [
    "Most_kills=data['kills'].quantile(0.99)\n",
    "print(\"99% of people have {} kills.\".format(Most_kills))"
   ]
  },
  {
   "cell_type": "markdown",
   "metadata": {},
   "source": [
    "#### 6. The most kills ever recorded are how much?"
   ]
  },
  {
   "cell_type": "code",
   "execution_count": 11,
   "metadata": {},
   "outputs": [
    {
     "name": "stdout",
     "output_type": "stream",
     "text": [
      "The most kills ever recorded are 35 .\n"
     ]
    }
   ],
   "source": [
    "Max_kills=data['kills'].max()\n",
    "print(\"The most kills ever recorded are {} .\".format(Max_kills))"
   ]
  },
  {
   "cell_type": "markdown",
   "metadata": {},
   "source": [
    "#### 7. Print all the columns of the dataframe."
   ]
  },
  {
   "cell_type": "code",
   "execution_count": 12,
   "metadata": {},
   "outputs": [
    {
     "name": "stdout",
     "output_type": "stream",
     "text": [
      "Index(['Id', 'groupId', 'matchId', 'assists', 'boosts', 'damageDealt', 'DBNOs',\n",
      "       'headshotKills', 'heals', 'killPlace', 'killPoints', 'kills',\n",
      "       'killStreaks', 'longestKill', 'matchDuration', 'matchType', 'maxPlace',\n",
      "       'numGroups', 'rankPoints', 'revives', 'rideDistance', 'roadKills',\n",
      "       'swimDistance', 'teamKills', 'vehicleDestroys', 'walkDistance',\n",
      "       'weaponsAcquired', 'winPoints', 'winPlacePerc'],\n",
      "      dtype='object')\n"
     ]
    }
   ],
   "source": [
    "col_nammes=data.columns\n",
    "print(col_nammes)"
   ]
  },
  {
   "cell_type": "markdown",
   "metadata": {},
   "source": [
    "#### 8. Comment on distribution of the match's duration. Use seaborn."
   ]
  },
  {
   "cell_type": "code",
   "execution_count": 13,
   "metadata": {},
   "outputs": [
    {
     "data": {
      "image/png": "[encoded data removed]",
      "text/plain": [
       "<Figure size 720x360 with 1 Axes>"
      ]
     },
     "metadata": {
      "needs_background": "light"
     },
     "output_type": "display_data"
    }
   ],
   "source": [
    "plt.figure(figsize=(10,5))\n",
    "plt.title(\"Ditribution of match's duration. \",fontsize=10)\n",
    "sns.distplot(data['matchDuration'])\n",
    "plt.show()"
   ]
  },
  {
   "cell_type": "markdown",
   "metadata": {},
   "source": [
    "#### 9. Comment on distribution of the walk distance. Use seaborn."
   ]
  },
  {
   "cell_type": "code",
   "execution_count": 14,
   "metadata": {},
   "outputs": [
    {
     "data": {
      "image/png": "[encoded data removed]",
      "text/plain": [
       "<Figure size 720x360 with 1 Axes>"
      ]
     },
     "metadata": {
      "needs_background": "light"
     },
     "output_type": "display_data"
    }
   ],
   "source": [
    "plt.figure(figsize=(10,5))\n",
    "plt.title(\"Ditribution of  walk distance. \",fontsize=10)\n",
    "sns.distplot(data['walkDistance'])\n",
    "plt.show()"
   ]
  },
  {
   "cell_type": "markdown",
   "metadata": {},
   "source": [
    "#### 10. Plot distribution of the match's duration vs walk distance one below the other."
   ]
  },
  {
   "cell_type": "code",
   "execution_count": 15,
   "metadata": {},
   "outputs": [
    {
     "data": {
      "text/plain": [
       "<Figure size 720x360 with 0 Axes>"
      ]
     },
     "metadata": {},
     "output_type": "display_data"
    },
    {
     "data": {
      "image/png": "[encoded data removed]",
      "text/plain": [
       "<Figure size 720x360 with 2 Axes>"
      ]
     },
     "metadata": {
      "needs_background": "light"
     },
     "output_type": "display_data"
    }
   ],
   "source": [
    "plt.figure(figsize=(10,5))\n",
    "fig, ax =plt.subplots(2,1, figsize=(10, 5))\n",
    "\n",
    "plt.title(\"Ditribution of  walk distance. \",fontsize=10)\n",
    "sns.distplot(data['walkDistance'], ax=ax[0])\n",
    "\n",
    "plt.title(\"Ditribution of match Duration. \",fontsize=10)\n",
    "sns.distplot(data['matchDuration'], ax=ax[1])\n",
    "\n",
    "plt.show()"
   ]
  },
  {
   "cell_type": "markdown",
   "metadata": {},
   "source": [
    "#### 11. Plot distribution of the match's duration vs walk distance side by side."
   ]
  },
  {
   "cell_type": "code",
   "execution_count": 16,
   "metadata": {},
   "outputs": [
    {
     "data": {
      "image/png": "[encoded data removed]",
      "text/plain": [
       "<Figure size 720x360 with 2 Axes>"
      ]
     },
     "metadata": {
      "needs_background": "light"
     },
     "output_type": "display_data"
    }
   ],
   "source": [
    "#plt.figure(figsize=(48,20))\n",
    "fig, ax =plt.subplots(1,2, figsize=(10, 5))\n",
    "\n",
    "plt.title(\"Ditribution of  walk distance. \",fontsize=10)\n",
    "sns.distplot(data['walkDistance'], ax=ax[0])\n",
    "\n",
    "plt.title(\"Ditribution of match Duration. \",fontsize=10)\n",
    "sns.distplot(data['matchDuration'], ax=ax[1])\n",
    "\n",
    "sns.set_style(\"darkgrid\")\n",
    "plt.show()"
   ]
  },
  {
   "cell_type": "markdown",
   "metadata": {},
   "source": [
    "#### 12. Pairplot the dataframe. Comment on kills vs damage dealt, Comment on maxPlace vs numGroups."
   ]
  },
  {
   "cell_type": "code",
   "execution_count": null,
   "metadata": {},
   "outputs": [],
   "source": [
    "sns.pairplot(data)"
   ]
  },
  {
   "cell_type": "code",
   "execution_count": null,
   "metadata": {},
   "outputs": [],
   "source": [
    "Comment on kills vs damage dealt, "
   ]
  },
  {
   "cell_type": "code",
   "execution_count": null,
   "metadata": {},
   "outputs": [],
   "source": [
    "Comment on maxPlace vs numGroups."
   ]
  },
  {
   "cell_type": "markdown",
   "metadata": {},
   "source": [
    "#### 13. How many unique values are there in 'matchType' and what are their counts?"
   ]
  },
  {
   "cell_type": "code",
   "execution_count": null,
   "metadata": {},
   "outputs": [],
   "source": [
    "s = pd.value_counts(data[\"matchType\"])\n",
    "print( 'number of unique values are :- ', len(s) , \" and there respectiv counts as below :-\")\n",
    "print(s)\n",
    "\n",
    "g = sns.factorplot(\"matchType\", data=data, aspect=1.5, kind=\"count\", color=\"b\")\n",
    "g.set_xticklabels(rotation=30)\n"
   ]
  },
  {
   "cell_type": "markdown",
   "metadata": {},
   "source": [
    "#### 14. Plot a barplot of ‘matchType’ vs 'killPoints'. Write your inferences."
   ]
  },
  {
   "cell_type": "code",
   "execution_count": null,
   "metadata": {},
   "outputs": [],
   "source": [
    "\n",
    "#g.set_xticklabels(g.get_xticklabels(),rotation=45)\n",
    "plt.xticks(rotation=45)\n",
    "ax=sns.barplot(x=\"matchType\", y=\"killPoints\", data=data)"
   ]
  },
  {
   "cell_type": "markdown",
   "metadata": {},
   "source": [
    "#### 15. Plot a barplot of ‘matchType’ vs ‘weaponsAcquired’. Write your inferences."
   ]
  },
  {
   "cell_type": "code",
   "execution_count": null,
   "metadata": {},
   "outputs": [],
   "source": [
    "plt.xticks(rotation=45)\n",
    "ax = sns.barplot(x=\"matchType\", y=\"weaponsAcquired\", data=data)"
   ]
  },
  {
   "cell_type": "markdown",
   "metadata": {},
   "source": [
    "#### 16. Find the Categorical columns."
   ]
  },
  {
   "cell_type": "code",
   "execution_count": null,
   "metadata": {},
   "outputs": [],
   "source": []
  },
  {
   "cell_type": "markdown",
   "metadata": {},
   "source": [
    "#### 17. Plot a boxplot of ‘matchType’ vs ‘winPlacePerc’. Write your inferences."
   ]
  },
  {
   "cell_type": "code",
   "execution_count": null,
   "metadata": {},
   "outputs": [],
   "source": [
    "plt.xticks(rotation=45)\n",
    "ax = sns.boxplot(x=\"matchType\", y=\"winPlacePerc\", data=data)"
   ]
  },
  {
   "cell_type": "markdown",
   "metadata": {},
   "source": [
    "#### 18. Plot a boxplot of ‘matchType’ vs ‘matchDuration’. Write your inferences."
   ]
  },
  {
   "cell_type": "code",
   "execution_count": null,
   "metadata": {},
   "outputs": [],
   "source": [
    "plt.xticks(rotation=45)\n",
    "ax = sns.boxplot(x=\"matchType\", y=\"matchDuration\", data=data)"
   ]
  },
  {
   "cell_type": "code",
   "execution_count": null,
   "metadata": {},
   "outputs": [],
   "source": []
  },
  {
   "cell_type": "code",
   "execution_count": null,
   "metadata": {},
   "outputs": [],
   "source": [
    "plt.xticks(rotation=45)\n",
    "ax = sns.boxplot(x=\"matchType\", y=\"matchDuration\", data=data,orient=\"h\")"
   ]
  },
  {
   "cell_type": "markdown",
   "metadata": {},
   "source": [
    "#### 19. Change the orientation of the above plot to horizontal."
   ]
  },
  {
   "cell_type": "code",
   "execution_count": null,
   "metadata": {},
   "outputs": [],
   "source": [
    "plt.xticks(rotation=45)\n",
    "ax = sns.boxplot(data=data[[\"matchType\",\"winPlacePerc\"]],orient=\"h\", palette=\"Set2\")"
   ]
  },
  {
   "cell_type": "markdown",
   "metadata": {},
   "source": [
    "#### 20. Add a new column called ‘KILL’ which contains the sum of following columns viz. headshotKills, teamKills, roadKills."
   ]
  },
  {
   "cell_type": "code",
   "execution_count": null,
   "metadata": {},
   "outputs": [],
   "source": [
    "data[\"KILL\"] = data[\"headshotKills\"] + data[\"teamKills\"] + data[\"roadKills\"]\n",
    "data[[\"KILL\",\"headshotKills\",\"teamKills\",\"roadKills\"]].head()"
   ]
  },
  {
   "cell_type": "markdown",
   "metadata": {},
   "source": [
    "#### 21. Round off column ‘winPlacePerc’ to 2 decimals."
   ]
  },
  {
   "cell_type": "code",
   "execution_count": null,
   "metadata": {},
   "outputs": [],
   "source": [
    "round(data[\"winPlacePerc\"],2)"
   ]
  },
  {
   "cell_type": "markdown",
   "metadata": {},
   "source": [
    "#### 22. Take a sample of size 50 from the column damageDealt for 100 times and calculate its mean. Plot it on a histogram and comment on its distribution."
   ]
  },
  {
   "cell_type": "code",
   "execution_count": null,
   "metadata": {},
   "outputs": [],
   "source": [
    "sample_data=data[\"damageDealt\"].copy() * 100\n",
    "sample_data=sample_data.sample(n = 50)\n",
    "print(sample_data.mean())\n",
    "\n",
    "sns.displot(sample_data, x=\"damageDealt\")"
   ]
  },
  {
   "cell_type": "code",
   "execution_count": null,
   "metadata": {},
   "outputs": [],
   "source": [
    "sns.__version__"
   ]
  },
  {
   "cell_type": "code",
   "execution_count": null,
   "metadata": {},
   "outputs": [],
   "source": []
  },
  {
   "cell_type": "code",
   "execution_count": null,
   "metadata": {},
   "outputs": [],
   "source": []
  }
 ],
 "metadata": {
  "kernelspec": {
   "display_name": "Python 3",
   "language": "python",
   "name": "python3"
  },
  "language_info": {
   "codemirror_mode": {
    "name": "ipython",
    "version": 3
   },
   "file_extension": ".py",
   "mimetype": "text/x-python",
   "name": "python",
   "nbconvert_exporter": "python",
   "pygments_lexer": "ipython3",
   "version": "3.7.0"
  }
 },
 "nbformat": 4,
 "nbformat_minor": 2
}
